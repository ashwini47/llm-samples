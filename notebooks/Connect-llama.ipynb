{
 "cells": [
  {
   "cell_type": "markdown",
   "id": "0c10ca66-965d-49ce-8316-5714201dc51c",
   "metadata": {},
   "source": [
    "# Lab Objective :  Connect with Google GEN AI (google plam) and ask a question unsing langchain\n",
    "<b>References <br>\n",
    "https://python.langchain.com/docs/integrations/platforms/google<br>\n",
    "https://python.langchain.com/docs/integrations/chat/llama_api\n",
    "<b>Prerequisite <br>\n",
    "Must Environment variable \"%env GOOGLE_API_KEY=<KEY>\"<br>\n",
    "pip install langchain-google-genai<br>\n",
    "pip install langchain_experimental <br>\n",
    "\n",
    "Refer to requirment,txt<br>"
   ]
  },
  {
   "cell_type": "code",
   "execution_count": null,
   "id": "062059dd-f44a-4395-92c9-5c80c377de55",
   "metadata": {},
   "outputs": [],
   "source": [
    "from llamaapi import LlamaAPI\n",
    "import os\n",
    "print()\n",
    "\n",
    "# Replace 'Your_API_Token' with your actual API token\n",
    "LLAMA_API_KEY=os.environ[\"LLAMA_API_KEY\"]\n",
    "llama = LlamaAPI()"
   ]
  },
  {
   "cell_type": "code",
   "execution_count": 2,
   "id": "71c0ae22-28ce-49da-a566-0545b7f5f9d4",
   "metadata": {},
   "outputs": [],
   "source": [
    "from langchain_experimental.llms import ChatLlamaAPI"
   ]
  },
  {
   "cell_type": "code",
   "execution_count": 3,
   "id": "e21cf361-2000-443e-a8a5-649f715d329c",
   "metadata": {},
   "outputs": [],
   "source": [
    "model = ChatLlamaAPI(client=llama)"
   ]
  },
  {
   "cell_type": "code",
   "execution_count": 6,
   "id": "f9890fc0-b431-4a47-be1a-9d535caa6023",
   "metadata": {},
   "outputs": [
    {
     "data": {
      "text/plain": [
       "\"🌞🍁 The average high temperature in Washington, DC in November is around 54°F (12°C), while the average low temperature is around 38°F (3°C). ❄️🌫️ It's a great time to enjoy the fall foliage and all the outdoor activities the city has to offer! 😊\\n\\nSource: <https://weather.com/en-IN/weather/today/l/USDC0218:1:IN>\\n\\nWould you like to know anything else? 🤔👀\""
      ]
     },
     "execution_count": 6,
     "metadata": {},
     "output_type": "execute_result"
    }
   ],
   "source": [
    "model.invoke('How is the November weather in DC and also show the original source link').content"
   ]
  },
  {
   "cell_type": "code",
   "execution_count": 9,
   "id": "b4080ced-634a-48aa-8bf8-daf7c1e4ea57",
   "metadata": {},
   "outputs": [
    {
     "data": {
      "text/plain": [
       "\"There are many great places to visit in Washington, D.C. Here are some of the top recommendations:\\n\\n1. National Mall and Memorial Parks: This historic area is home to many iconic landmarks, including the Lincoln Memorial, Washington Monument, and Reflecting Pool.\\n2. Smithsonian Institution: The world's largest museum, education, and research complex, with 19 museums and galleries, as well as the National Zoo.\\n3. National Archives: Houses the Declaration of Independence, Constitution, and other important documents.\\n4. United States Capitol: The seat of the U.S. Congress, with guided tours available.\\n5. White House: The official residence and workplace of the President of the United States.\\n6. Smithsonian's National Air and Space Museum: Explore the history of aviation and space exploration.\\n7. National Museum of Natural History: Examine the natural world and human culture.\\n8. Newseum: The interactive museum of news and the First Amendment.\\n9. National Gallery of Art: Features a world-class collection of Western European and American art.\\n10. Kennedy Center: A performing arts center with a variety of shows and events.\\n\\nThese are just a few of the many great places to visit in Washington, D.C. What specific interests do you have? I can provide more tailored recommendations based on your preferences.\""
      ]
     },
     "execution_count": 9,
     "metadata": {},
     "output_type": "execute_result"
    }
   ],
   "source": [
    "model.invoke('best places to visit in DC').content\n"
   ]
  },
  {
   "cell_type": "code",
   "execution_count": 10,
   "id": "5f93000e-93cc-4ff6-8200-d1229e6ede9d",
   "metadata": {},
   "outputs": [],
   "source": [
    "from IPython.display import HTML"
   ]
  },
  {
   "cell_type": "code",
   "execution_count": 25,
   "id": "8d457871-72da-4c86-a9d7-bb6d778be666",
   "metadata": {},
   "outputs": [
    {
     "data": {
      "text/html": [
       "<table style=\"width:100%\">\n",
       "<tr>\n",
       "<th>Header 1</th>\n",
       "<th>Header 2</th>\n",
       "</tr>\n",
       "<tr>\n",
       "<td style=\"width:30%\">row 1, cell 1</td>\n",
       "<td>row 1, cellfxxxxxffffffffffffffffffffffffffffffffffffdf\n",
       "asdfasdfasdfasdfasdfasdfasdfasdfasdfasdffffffffffffffffffffffffffffffffffffffffffffffxxxxxf 2</td>\n",
       "</tr>\n",
       "<tr>\n",
       "<td width:30%\">row 2ffffffffffffffffffffffffffff, cell 1</td>\n",
       "<td>row 2, cell 2</td>\n",
       "</tr>\n",
       "</table>"
      ],
      "text/plain": [
       "<IPython.core.display.HTML object>"
      ]
     },
     "metadata": {},
     "output_type": "display_data"
    }
   ],
   "source": [
    "s = \"\"\"<table style=\"width:100%\">\n",
    "<tr>\n",
    "<th>Header 1</th>\n",
    "<th>Header 2</th>\n",
    "</tr>\n",
    "<tr>\n",
    "<td style=\"width:30%\">row 1, cell 1</td>\n",
    "<td>row 1, cellfxxxxxffffffffffffffffffffffffffffffffffffdf\n",
    "asdfasdfasdfasdfasdfasdfasdfasdfasdfasdffffffffffffffffffffffffffffffffffffffffffffffxxxxxf 2</td>\n",
    "</tr>\n",
    "<tr>\n",
    "<td width:30%\">row 2ffffffffffffffffffffffffffff, cell 1</td>\n",
    "<td>row 2, cell 2</td>\n",
    "</tr>\n",
    "</table>\"\"\"\n",
    "h = HTML(s)\n",
    "display(h)"
   ]
  },
  {
   "cell_type": "code",
   "execution_count": null,
   "id": "9ccd676d-96e3-4014-9f8a-ffea9dfc2023",
   "metadata": {},
   "outputs": [],
   "source": []
  },
  {
   "cell_type": "code",
   "execution_count": null,
   "id": "3a6e02d7-7e56-4b49-9c86-47e520a134f5",
   "metadata": {},
   "outputs": [],
   "source": []
  }
 ],
 "metadata": {
  "kernelspec": {
   "display_name": "Python 3 (ipykernel)",
   "language": "python",
   "name": "python3"
  },
  "language_info": {
   "codemirror_mode": {
    "name": "ipython",
    "version": 3
   },
   "file_extension": ".py",
   "mimetype": "text/x-python",
   "name": "python",
   "nbconvert_exporter": "python",
   "pygments_lexer": "ipython3",
   "version": "3.9.12"
  }
 },
 "nbformat": 4,
 "nbformat_minor": 5
}
