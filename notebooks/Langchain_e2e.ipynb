{
 "cells": [
  {
   "cell_type": "code",
   "execution_count": 4,
   "id": "f7e2ed37-a64d-4277-a707-d1708fe8db53",
   "metadata": {},
   "outputs": [],
   "source": [
    "import os \n",
    "from typing import List\n",
    "from langchain_core.prompts import ChatPromptTemplate\n",
    "from langchain_openai import ChatOpenAI\n",
    "from langchain_community.document_loaders import WebBaseLoader\n",
    "from langchain_openai import OpenAIEmbeddings\n",
    "from langchain_community.vectorstores import FAISS\n",
    "from langchain.text_splitter import RecursiveCharacterTextSplitter\n",
    "from langchain.tools.retriever import create_retriever_tool\n",
    "from langchain_community.tools.tavily_search import TavilySearchResults\n",
    "from langchain_openai import ChatOpenAI\n",
    "from langchain import hub\n",
    "from langchain.agents import create_openai_functions_agent\n",
    "from langchain.agents import AgentExecutor\n",
    "from langchain.pydantic_v1 import BaseModel, Field\n",
    "from langchain_core.messages import BaseMessage\n",
    "from langserve import add_routes\n",
    "# Load API Keys \n",
    "OPENAI_API_KEY=os.environ[\"OPENAI_API_KEY\"]\n",
    "TAVILY_API_KEY=os.environ[\"TAVILY_API_KEY\"]\n",
    "\n",
    "\n",
    "\n",
    "# 1. Load Retriever\n",
    "loader = WebBaseLoader(\"https://docs.smith.langchain.com/overview\")\n",
    "docs = loader.load()\n",
    "\n",
    "text_splitter = RecursiveCharacterTextSplitter()\n",
    "documents = text_splitter.split_documents(docs)\n",
    "embeddings = OpenAIEmbeddings()\n",
    "vector = FAISS.from_documents(documents, embeddings)\n",
    "retriever = vector.as_retriever()\n",
    "\n",
    "# 2. Create Tools\n",
    "retriever_tool = create_retriever_tool(\n",
    "    retriever,\n",
    "    \"langsmith_search\",\n",
    "    \"Search for information about LangSmith. For any questions about LangSmith, you must use this tool!\",\n",
    ")\n",
    "search = TavilySearchResults()\n",
    "tools = [retriever_tool, search]\n",
    "\n",
    "\n",
    "# 3. Create Agent\n",
    "prompt = hub.pull(\"hwchase17/openai-functions-agent\")\n",
    "llm = ChatOpenAI(model=\"gpt-3.5-turbo\", temperature=0)\n",
    "\n",
    "agent = create_openai_functions_agent(llm, tools, prompt)\n",
    "\n",
    "agent_executor = AgentExecutor(agent=agent, tools=tools, verbose=True)\n",
    "\n"
   ]
  },
  {
   "cell_type": "code",
   "execution_count": 6,
   "id": "d22e5ac6-f5fa-42a5-b519-a9c50d1db008",
   "metadata": {},
   "outputs": [
    {
     "name": "stdout",
     "output_type": "stream",
     "text": [
      "\n",
      "\n",
      "\u001b[1m> Entering new AgentExecutor chain...\u001b[0m\n",
      "\u001b[32;1m\u001b[1;3mLangSmith can help with testing by providing comprehensive and accurate information about testing methodologies, best practices, and tools, as well as offering guidance and support in implementing effective testing strategies.\u001b[0m\n",
      "\n",
      "\u001b[1m> Finished chain.\u001b[0m\n",
      "LangSmith can help with testing by providing comprehensive and accurate information about testing methodologies, best practices, and tools, as well as offering guidance and support in implementing effective testing strategies.\n"
     ]
    }
   ],
   "source": [
    "result =agent_executor.invoke({\"input\": \"how can langsmith help with testing? please tell in 2 lines\"})\n",
    "print (result['output'])"
   ]
  },
  {
   "cell_type": "code",
   "execution_count": 7,
   "id": "d2a3056f-c73c-4800-bbb2-fa8c3ff94696",
   "metadata": {},
   "outputs": [
    {
     "name": "stdout",
     "output_type": "stream",
     "text": [
      "\n",
      "\n",
      "\u001b[1m> Entering new AgentExecutor chain...\u001b[0m\n",
      "\u001b[32;1m\u001b[1;3mIn Washington, D.C., there are several must-visit attractions. Start your day by exploring the iconic National Mall, home to famous landmarks like the Lincoln Memorial and the Washington Monument. Don't miss the opportunity to visit the Smithsonian museums, which offer a wide range of exhibits on art, history, and culture. Take a stroll through the charming Georgetown neighborhood, known for its historic architecture and vibrant shopping and dining scene. For a unique experience, visit the United States Capitol and take a guided tour of the legislative branch of the government. Finally, end your day with a visit to the beautiful and peaceful Tidal Basin, where you can admire the stunning cherry blossoms in the spring.\u001b[0m\n",
      "\n",
      "\u001b[1m> Finished chain.\u001b[0m\n",
      "In Washington, D.C., there are several must-visit attractions. Start your day by exploring the iconic National Mall, home to famous landmarks like the Lincoln Memorial and the Washington Monument. Don't miss the opportunity to visit the Smithsonian museums, which offer a wide range of exhibits on art, history, and culture. Take a stroll through the charming Georgetown neighborhood, known for its historic architecture and vibrant shopping and dining scene. For a unique experience, visit the United States Capitol and take a guided tour of the legislative branch of the government. Finally, end your day with a visit to the beautiful and peaceful Tidal Basin, where you can admire the stunning cherry blossoms in the spring.\n"
     ]
    }
   ],
   "source": [
    "result =agent_executor.invoke({\"input\": \"where to go in DC , answer in 5 line\"})\n",
    "print (result['output'])"
   ]
  },
  {
   "cell_type": "code",
   "execution_count": 15,
   "id": "b46b809a-2978-4305-8b20-3d353ad13596",
   "metadata": {},
   "outputs": [
    {
     "name": "stdout",
     "output_type": "stream",
     "text": [
      "\n",
      "\n",
      "\u001b[1m> Entering new AgentExecutor chain...\u001b[0m\n",
      "\u001b[32;1m\u001b[1;3mThere are many places to visit in Washington, D.C. Here are some popular attractions:\n",
      "\n",
      "1. The National Mall: This is a large park in the center of the city that is home to iconic landmarks such as the Washington Monument, Lincoln Memorial, and the U.S. Capitol.\n",
      "\n",
      "2. Smithsonian Museums: D.C. is known for its world-class museums, most of which are located on or near the National Mall. Some popular ones include the National Air and Space Museum, National Museum of Natural History, and the National Gallery of Art.\n",
      "\n",
      "3. The White House: The official residence of the President of the United States. While you can't go inside without a special invitation, you can still visit the exterior and take a guided tour of the surrounding area.\n",
      "\n",
      "4. The United States Capitol: The home of the U.S. Congress. You can take a guided tour of the Capitol building and learn about the history and workings of the U.S. government.\n",
      "\n",
      "5. The National Zoo: Located in the Woodley Park neighborhood, the National Zoo is home to a wide variety of animals, including giant pandas. Admission is free.\n",
      "\n",
      "6. Georgetown: This historic neighborhood is known for its charming streets, upscale shops, and restaurants. It's a great place to explore and grab a bite to eat.\n",
      "\n",
      "7. The National Gallery of Art: Located on the National Mall, the National Gallery of Art houses an extensive collection of European and American art, including works by famous artists such as Leonardo da Vinci, Rembrandt, and Monet.\n",
      "\n",
      "8. The National Archives: Here you can see important historical documents such as the Declaration of Independence, the Constitution, and the Bill of Rights.\n",
      "\n",
      "These are just a few of the many attractions in Washington, D.C. There is so much to see and do in the city, so make sure to plan your visit accordingly!\u001b[0m\n",
      "\n",
      "\u001b[1m> Finished chain.\u001b[0m\n",
      "There are many places to visit in Washington, D.C. Here are some popular attractions:\n",
      "\n",
      "1. The National Mall: This is a large park in the center of the city that is home to iconic landmarks such as the Washington Monument, Lincoln Memorial, and the U.S. Capitol.\n",
      "\n",
      "2. Smithsonian Museums: D.C. is known for its world-class museums, most of which are located on or near the National Mall. Some popular ones include the National Air and Space Museum, National Museum of Natural History, and the National Gallery of Art.\n",
      "\n",
      "3. The White House: The official residence of the President of the United States. While you can't go inside without a special invitation, you can still visit the exterior and take a guided tour of the surrounding area.\n",
      "\n",
      "4. The United States Capitol: The home of the U.S. Congress. You can take a guided tour of the Capitol building and learn about the history and workings of the U.S. government.\n",
      "\n",
      "5. The National Zoo: Located in the Woodley Park neighborhood, the National Zoo is home to a wide variety of animals, including giant pandas. Admission is free.\n",
      "\n",
      "6. Georgetown: This historic neighborhood is known for its charming streets, upscale shops, and restaurants. It's a great place to explore and grab a bite to eat.\n",
      "\n",
      "7. The National Gallery of Art: Located on the National Mall, the National Gallery of Art houses an extensive collection of European and American art, including works by famous artists such as Leonardo da Vinci, Rembrandt, and Monet.\n",
      "\n",
      "8. The National Archives: Here you can see important historical documents such as the Declaration of Independence, the Constitution, and the Bill of Rights.\n",
      "\n",
      "These are just a few of the many attractions in Washington, D.C. There is so much to see and do in the city, so make sure to plan your visit accordingly!\n"
     ]
    }
   ],
   "source": [
    "result =agent_executor.invoke({\"input\": \"where to go in DC\"})\n",
    "print (result['output'])"
   ]
  },
  {
   "cell_type": "code",
   "execution_count": 16,
   "id": "eacdc1bf-81f2-4dd1-8f00-91366b35481f",
   "metadata": {},
   "outputs": [
    {
     "name": "stdout",
     "output_type": "stream",
     "text": [
      "{'input': 'where to go in DC', 'output': \"There are many places to visit in Washington, D.C. Here are some popular attractions:\\n\\n1. The National Mall: This is a large park in the center of the city that is home to iconic landmarks such as the Washington Monument, Lincoln Memorial, and the U.S. Capitol.\\n\\n2. Smithsonian Museums: D.C. is known for its world-class museums, most of which are located on or near the National Mall. Some popular ones include the National Air and Space Museum, National Museum of Natural History, and the National Gallery of Art.\\n\\n3. The White House: The official residence of the President of the United States. While you can't go inside without a special invitation, you can still visit the exterior and take a guided tour of the surrounding area.\\n\\n4. The United States Capitol: The home of the U.S. Congress. You can take a guided tour of the Capitol building and learn about the history and workings of the U.S. government.\\n\\n5. The National Zoo: Located in the Woodley Park neighborhood, the National Zoo is home to a wide variety of animals, including giant pandas. Admission is free.\\n\\n6. Georgetown: This historic neighborhood is known for its charming streets, upscale shops, and restaurants. It's a great place to explore and grab a bite to eat.\\n\\n7. The National Gallery of Art: Located on the National Mall, the National Gallery of Art houses an extensive collection of European and American art, including works by famous artists such as Leonardo da Vinci, Rembrandt, and Monet.\\n\\n8. The National Archives: Here you can see important historical documents such as the Declaration of Independence, the Constitution, and the Bill of Rights.\\n\\nThese are just a few of the many attractions in Washington, D.C. There is so much to see and do in the city, so make sure to plan your visit accordingly!\"}\n"
     ]
    }
   ],
   "source": [
    "print (result)"
   ]
  },
  {
   "cell_type": "code",
   "execution_count": null,
   "id": "65ded234-8d60-4494-be2f-b6a50e9e5953",
   "metadata": {},
   "outputs": [],
   "source": []
  }
 ],
 "metadata": {
  "kernelspec": {
   "display_name": "Python 3 (ipykernel)",
   "language": "python",
   "name": "python3"
  },
  "language_info": {
   "codemirror_mode": {
    "name": "ipython",
    "version": 3
   },
   "file_extension": ".py",
   "mimetype": "text/x-python",
   "name": "python",
   "nbconvert_exporter": "python",
   "pygments_lexer": "ipython3",
   "version": "3.9.12"
  }
 },
 "nbformat": 4,
 "nbformat_minor": 5
}
