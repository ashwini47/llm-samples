{
 "cells": [
  {
   "cell_type": "markdown",
   "id": "216b60f3-6746-40a3-8fab-ec08f97bb6c0",
   "metadata": {},
   "source": [
    "# Lab Objective :  Connect with OPEN AI and ask a question unsing langchain\n",
    "<b>References</b> <br>\n",
    "https://python.langchain.com/docs/get_started/quickstart <br>\n",
    "<b>Prerequisite  </b> <br>\n",
    "Makesure to setup API key in your enviroments i.e.<br>\n",
    "%env OPENAI_API_KEY=<Key><br>\n",
    "%env TAVILY_API_KEY=<Key><br>\n",
    "pip install langchain <br>\n",
    "pip install langchain-openai <br>\n",
    "Refer to requirment.txt<br>"
   ]
  },
  {
   "cell_type": "code",
   "execution_count": 1,
   "id": "da036681-2116-41ac-a71a-93f0614a36fe",
   "metadata": {},
   "outputs": [],
   "source": [
    "#Setup lang chain interface \n",
    "from langchain_openai import ChatOpenAI\n",
    "llm = ChatOpenAI()"
   ]
  },
  {
   "cell_type": "code",
   "execution_count": 7,
   "id": "8ae745ea-0392-4e23-9476-28b577811bc6",
   "metadata": {},
   "outputs": [
    {
     "data": {
      "text/plain": [
       "AIMessage(content='November in DC can be quite cold, with average temperatures ranging from the low 40s to high 50s Fahrenheit.')"
      ]
     },
     "execution_count": 7,
     "metadata": {},
     "output_type": "execute_result"
    }
   ],
   "source": [
    "llm.invoke('How Cold november is in DC, answer in one line')"
   ]
  },
  {
   "cell_type": "code",
   "execution_count": 16,
   "id": "779f8efb-f1cc-4225-ad8e-fcfbe389373f",
   "metadata": {},
   "outputs": [
    {
     "data": {
      "text/plain": [
       "\"In November, Washington, D.C., experiences chilly temperatures as winter approaches. The average high temperature in November ranges from around 55°F (13°C) to 63°F (17°C), while the average low temperature ranges from 40°F (4°C) to 47°F (8°C). However, it's important to note that temperatures can vary greatly within the month, with some days feeling colder than others. Additionally, the city can occasionally experience colder spells or even early snowfall during this time. It is advisable to check the weather forecast for the specific dates you are interested in visiting to have a more accurate understanding of the expected conditions.\""
      ]
     },
     "execution_count": 16,
     "metadata": {},
     "output_type": "execute_result"
    }
   ],
   "source": [
    "llm.invoke(\"'How Cold november is in DC\").content"
   ]
  },
  {
   "cell_type": "code",
   "execution_count": null,
   "id": "5431d554-a4f1-40f9-962a-5dc172b8b4e2",
   "metadata": {},
   "outputs": [],
   "source": []
  },
  {
   "cell_type": "code",
   "execution_count": null,
   "id": "e84fefb1-ad12-48af-9fa5-b7d95d1ab0d8",
   "metadata": {},
   "outputs": [],
   "source": []
  },
  {
   "cell_type": "code",
   "execution_count": null,
   "id": "bfa32d56-df28-46fa-848b-8fa13d85b87f",
   "metadata": {},
   "outputs": [],
   "source": []
  }
 ],
 "metadata": {
  "kernelspec": {
   "display_name": "Python 3 (ipykernel)",
   "language": "python",
   "name": "python3"
  },
  "language_info": {
   "codemirror_mode": {
    "name": "ipython",
    "version": 3
   },
   "file_extension": ".py",
   "mimetype": "text/x-python",
   "name": "python",
   "nbconvert_exporter": "python",
   "pygments_lexer": "ipython3",
   "version": "3.9.12"
  }
 },
 "nbformat": 4,
 "nbformat_minor": 5
}
